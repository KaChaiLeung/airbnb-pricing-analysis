{
 "cells": [
  {
   "cell_type": "code",
   "execution_count": 2,
   "id": "19d804e0",
   "metadata": {},
   "outputs": [],
   "source": [
    "import pandas as pd"
   ]
  },
  {
   "cell_type": "code",
   "execution_count": 4,
   "id": "684248cc",
   "metadata": {},
   "outputs": [
    {
     "name": "stdout",
     "output_type": "stream",
     "text": [
      "                                         RMSE RMSE Uncertainty     R²  \\\n",
      "Ridge                                   0.559              NaN  0.522   \n",
      "RF                                      0.476              NaN  0.653   \n",
      "RidgeCV                                 0.559              NaN  0.522   \n",
      "RFCV                                    0.473              NaN  0.657   \n",
      "GB                                      0.476              NaN  0.653   \n",
      "GBCV                                    0.471              NaN  0.661   \n",
      "Simple_Ens                              0.466              NaN  0.668   \n",
      "Voting                                  0.466              NaN  0.668   \n",
      "Stack                                   0.465              NaN  0.669   \n",
      "10_Fold_Stack                           0.481            0.013  0.639   \n",
      "Dist_Voting                             0.465              NaN  0.669   \n",
      "Dist_Stack                              0.464              NaN  0.671   \n",
      "10_Fold_Dist_Stack                       0.48            0.013  0.641   \n",
      "Station_Voting                          0.467              NaN  0.667   \n",
      "Station_Stack                           0.466              NaN  0.667   \n",
      "10_Fold_Station_Stack                   0.481            0.013   0.64   \n",
      "Log_Dist_Voting                         0.468              NaN  0.665   \n",
      "Log_Dist_Stack                          0.467              NaN  0.666   \n",
      "10_Fold_Log_Dist_Stack                  0.481            0.013  0.639   \n",
      "XGBoost                                 0.469              NaN  0.664   \n",
      "New_Stack                               0.463              NaN  0.672   \n",
      "New_Stack_Non_Linear_Passthrough_False  0.465              NaN  0.669   \n",
      "New_Stack_Non_Linear_Passthrough_True   0.461              NaN  0.674   \n",
      "\n",
      "                                       R² Uncertainty  \n",
      "Ridge                                             NaN  \n",
      "RF                                                NaN  \n",
      "RidgeCV                                           NaN  \n",
      "RFCV                                              NaN  \n",
      "GB                                                NaN  \n",
      "GBCV                                              NaN  \n",
      "Simple_Ens                                        NaN  \n",
      "Voting                                            NaN  \n",
      "Stack                                             NaN  \n",
      "10_Fold_Stack                                   0.015  \n",
      "Dist_Voting                                       NaN  \n",
      "Dist_Stack                                        NaN  \n",
      "10_Fold_Dist_Stack                              0.015  \n",
      "Station_Voting                                    NaN  \n",
      "Station_Stack                                     NaN  \n",
      "10_Fold_Station_Stack                           0.015  \n",
      "Log_Dist_Voting                                   NaN  \n",
      "Log_Dist_Stack                                    NaN  \n",
      "10_Fold_Log_Dist_Stack                          0.014  \n",
      "XGBoost                                           NaN  \n",
      "New_Stack                                         NaN  \n",
      "New_Stack_Non_Linear_Passthrough_False            NaN  \n",
      "New_Stack_Non_Linear_Passthrough_True             NaN  \n"
     ]
    }
   ],
   "source": [
    "results = {\n",
    "    \"Ridge\": [0.559,\"NaN\", 0.522,\"NaN\"],\n",
    "    \"RF\": [0.476, \"NaN\",0.653,\"NaN\"],\n",
    "    \"RidgeCV\": [0.559, \"NaN\", 0.522,\"NaN\"],\n",
    "    \"RFCV\": [0.473, \"NaN\", 0.657,\"NaN\"],\n",
    "    \"GB\": [0.476, \"NaN\", 0.653,\"NaN\"],\n",
    "    \"GBCV\": [0.471, \"NaN\", 0.661,\"NaN\"],\n",
    "    \"Simple_Ens\": [0.466, \"NaN\", 0.668,\"NaN\"],\n",
    "    \"Voting\": [0.466, \"NaN\", 0.668,\"NaN\"],\n",
    "    \"Stack\": [0.465, \"NaN\", 0.669,\"NaN\"],\n",
    "    \"10_Fold_Stack\": [0.481, 0.013, 0.639, 0.015],\n",
    "    \"Dist_Voting\": [0.465, \"NaN\", 0.669, \"NaN\"],\n",
    "    \"Dist_Stack\": [0.464, \"NaN\", 0.671, \"NaN\"],\n",
    "    \"10_Fold_Dist_Stack\": [0.480, 0.013, 0.641, 0.015],\n",
    "    \"Station_Voting\": [0.467, \"NaN\", 0.667, \"NaN\"],\n",
    "    \"Station_Stack\": [0.466, \"NaN\", 0.667, \"NaN\"],\n",
    "    \"10_Fold_Station_Stack\": [0.481, 0.013, 0.640, 0.015],\n",
    "    \"Log_Dist_Voting\": [0.468, \"NaN\", 0.665, \"NaN\"],\n",
    "    \"Log_Dist_Stack\": [0.467, \"NaN\", 0.666, \"NaN\"],\n",
    "    \"10_Fold_Log_Dist_Stack\": [0.481, 0.013, 0.639, 0.014],\n",
    "    \"XGBoost\": [0.469, \"NaN\", 0.664, \"NaN\"],\n",
    "    \"New_Stack\": [0.463, \"NaN\", 0.672, \"NaN\"],\n",
    "    \"New_Stack_Non_Linear_Passthrough_False\": [0.465, \"NaN\", 0.669, \"NaN\"],\n",
    "    \"New_Stack_Non_Linear_Passthrough_True\": [0.461, \"NaN\", 0.674, \"NaN\"]\n",
    "}\n",
    "\n",
    "results_df = pd.DataFrame(results, index=[\"RMSE\", \"RMSE Uncertainty\", \"R²\", \"R² Uncertainty\"])\n",
    "\n",
    "print(results_df.T)"
   ]
  },
  {
   "cell_type": "code",
   "execution_count": null,
   "id": "ea837982",
   "metadata": {},
   "outputs": [],
   "source": []
  }
 ],
 "metadata": {
  "kernelspec": {
   "display_name": ".venv",
   "language": "python",
   "name": "python3"
  },
  "language_info": {
   "codemirror_mode": {
    "name": "ipython",
    "version": 3
   },
   "file_extension": ".py",
   "mimetype": "text/x-python",
   "name": "python",
   "nbconvert_exporter": "python",
   "pygments_lexer": "ipython3",
   "version": "3.13.5"
  }
 },
 "nbformat": 4,
 "nbformat_minor": 5
}
