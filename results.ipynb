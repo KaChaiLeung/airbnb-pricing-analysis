{
 "cells": [
  {
   "cell_type": "code",
   "execution_count": 1,
   "id": "19d804e0",
   "metadata": {},
   "outputs": [],
   "source": [
    "import pandas as pd"
   ]
  },
  {
   "cell_type": "code",
   "execution_count": null,
   "id": "684248cc",
   "metadata": {},
   "outputs": [
    {
     "name": "stdout",
     "output_type": "stream",
     "text": [
      "                         RMSE RMSE Uncertainty     R² R² Uncertainty\n",
      "Ridge                   0.559              NaN  0.522            NaN\n",
      "RF                      0.476              NaN  0.653            NaN\n",
      "RidgeCV                 0.559              NaN  0.522            NaN\n",
      "RFCV                    0.473              NaN  0.657            NaN\n",
      "GB                      0.476              NaN  0.653            NaN\n",
      "GBCV                    0.471              NaN  0.661            NaN\n",
      "Simple_Ens              0.466              NaN  0.668            NaN\n",
      "Voting                  0.466              NaN  0.668            NaN\n",
      "Stack                   0.465              NaN  0.669            NaN\n",
      "10_Fold_Stack           0.481            0.013  0.639          0.015\n",
      "Dist_Voting             0.465              NaN  0.669            NaN\n",
      "Dist_Stack              0.464              NaN  0.671            NaN\n",
      "10_Fold_Dist_Stack       0.48            0.013  0.641          0.015\n",
      "Station_Voting          0.467              NaN  0.667            NaN\n",
      "Station_Stack           0.466              NaN  0.667            NaN\n",
      "10_Fold_Station_Stack   0.481            0.013   0.64          0.015\n",
      "Log_Dist_Voting         0.468              NaN  0.665            NaN\n",
      "Log_Dist_Stack          0.467              NaN  0.666            NaN\n",
      "10_Fold_Log_Dist_Stack  0.481            0.013  0.639          0.014\n"
     ]
    }
   ],
   "source": [
    "results = {\n",
    "    \"Ridge\": [0.559,\"NaN\", 0.522,\"NaN\"],\n",
    "    \"RF\": [0.476, \"NaN\",0.653,\"NaN\"],\n",
    "    \"RidgeCV\": [0.559, \"NaN\", 0.522,\"NaN\"],\n",
    "    \"RFCV\": [0.473, \"NaN\", 0.657,\"NaN\"],\n",
    "    \"GB\": [0.476, \"NaN\", 0.653,\"NaN\"],\n",
    "    \"GBCV\": [0.471, \"NaN\", 0.661,\"NaN\"],\n",
    "    \"Simple_Ens\": [0.466, \"NaN\", 0.668,\"NaN\"],\n",
    "    \"Voting\": [0.466, \"NaN\", 0.668,\"NaN\"],\n",
    "    \"Stack\": [0.465, \"NaN\", 0.669,\"NaN\"],\n",
    "    \"10_Fold_Stack\": [0.481, 0.013, 0.639, 0.015],\n",
    "    \"Dist_Voting\": [0.465, \"NaN\", 0.669, \"NaN\"],\n",
    "    \"Dist_Stack\": [0.464, \"NaN\", 0.671, \"NaN\"],\n",
    "    \"10_Fold_Dist_Stack\": [0.480, 0.013, 0.641, 0.015],\n",
    "    \"Station_Voting\": [0.467, \"NaN\", 0.667, \"NaN\"],\n",
    "    \"Station_Stack\": [0.466, \"NaN\", 0.667, \"NaN\"],\n",
    "    \"10_Fold_Station_Stack\": [0.481, 0.013, 0.640, 0.015],\n",
    "    \"Log_Dist_Voting\": [0.468, \"NaN\", 0.665, \"NaN\"],\n",
    "    \"Log_Dist_Stack\": [0.467, \"NaN\", 0.666, \"NaN\"],\n",
    "    \"10_Fold_Log_Dist_Stack\": [0.481, 0.013, 0.639, 0.014],\n",
    "    \"XGBoost\": [0.469, \"NaN\", 0.664, \"NaN\"]\n",
    "}\n",
    "\n",
    "results_df = pd.DataFrame(results, index=[\"RMSE\", \"RMSE Uncertainty\", \"R²\", \"R² Uncertainty\"])\n",
    "\n",
    "print(results_df.T)"
   ]
  },
  {
   "cell_type": "code",
   "execution_count": null,
   "id": "ea837982",
   "metadata": {},
   "outputs": [],
   "source": []
  }
 ],
 "metadata": {
  "kernelspec": {
   "display_name": ".venv",
   "language": "python",
   "name": "python3"
  },
  "language_info": {
   "codemirror_mode": {
    "name": "ipython",
    "version": 3
   },
   "file_extension": ".py",
   "mimetype": "text/x-python",
   "name": "python",
   "nbconvert_exporter": "python",
   "pygments_lexer": "ipython3",
   "version": "3.13.5"
  }
 },
 "nbformat": 4,
 "nbformat_minor": 5
}
