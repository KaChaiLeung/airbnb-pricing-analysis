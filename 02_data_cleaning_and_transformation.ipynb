{
 "cells": [
  {
   "cell_type": "code",
   "execution_count": 29,
   "id": "c3bb8cb4",
   "metadata": {},
   "outputs": [],
   "source": [
    "import pandas as pd"
   ]
  },
  {
   "cell_type": "code",
   "execution_count": 30,
   "id": "0634aebf",
   "metadata": {},
   "outputs": [],
   "source": [
    "listings = pd.read_csv(\"data/listings.csv\")\n",
    "rows, cols = listings.shape"
   ]
  },
  {
   "cell_type": "code",
   "execution_count": 31,
   "id": "e0242765",
   "metadata": {},
   "outputs": [
    {
     "data": {
      "text/plain": [
       "license                           100.000000\n",
       "neighbourhood_group               100.000000\n",
       "price                              35.143972\n",
       "last_review                        26.035944\n",
       "reviews_per_month                  26.035944\n",
       "host_name                           0.041386\n",
       "host_id                             0.000000\n",
       "neighbourhood                       0.000000\n",
       "latitude                            0.000000\n",
       "longitude                           0.000000\n",
       "room_type                           0.000000\n",
       "name                                0.000000\n",
       "minimum_nights                      0.000000\n",
       "number_of_reviews                   0.000000\n",
       "calculated_host_listings_count      0.000000\n",
       "availability_365                    0.000000\n",
       "number_of_reviews_ltm               0.000000\n",
       "id                                  0.000000\n",
       "dtype: float64"
      ]
     },
     "execution_count": 31,
     "metadata": {},
     "output_type": "execute_result"
    }
   ],
   "source": [
    "# Calculating percentage of missing data in each column\n",
    "no_nan_values = listings.isna().sum()\n",
    "missing_rate_per_col = no_nan_values / rows * 100\n",
    "missing_rate_per_col.sort_values(ascending=False)"
   ]
  },
  {
   "cell_type": "code",
   "execution_count": 32,
   "id": "aaa5a0c0",
   "metadata": {},
   "outputs": [],
   "source": [
    "# Removing columns with no data and rows with no price\n",
    "filtered_listings = (\n",
    "    listings\n",
    "    .drop(columns=[\"license\", \"neighbourhood_group\"])\n",
    "    .dropna(subset=[\"price\"])\n",
    "    .assign(reviews_per_month=lambda df: df[\"reviews_per_month\"].fillna(0))\n",
    ")"
   ]
  },
  {
   "cell_type": "code",
   "execution_count": 36,
   "id": "2841a476",
   "metadata": {},
   "outputs": [],
   "source": [
    "filtered_listings = filtered_listings.assign(last_review=lambda df: pd.to_datetime(df[\"last_review\"]))\n",
    "filtered_listings[\"has_review\"] = filtered_listings[\"last_review\"].notna()\n",
    "filtered_listings[\"days_since_review\"] = (pd.to_datetime(\"today\") - filtered_listings[\"last_review\"]).dt.days"
   ]
  },
  {
   "cell_type": "code",
   "execution_count": 39,
   "id": "f90b48f8",
   "metadata": {},
   "outputs": [],
   "source": [
    "filtered_listings = filtered_listings.assign(host_name=lambda df: df[\"host_name\"].fillna(\"Unknown\"))"
   ]
  },
  {
   "cell_type": "code",
   "execution_count": 44,
   "id": "09bfe5a3",
   "metadata": {},
   "outputs": [
    {
     "data": {
      "text/plain": [
       "id                                         int64\n",
       "name                                      object\n",
       "host_id                                    int64\n",
       "host_name                                 object\n",
       "neighbourhood                             object\n",
       "latitude                                 float64\n",
       "longitude                                float64\n",
       "room_type                                 object\n",
       "price                                    float64\n",
       "minimum_nights                             int64\n",
       "number_of_reviews                          int64\n",
       "last_review                       datetime64[ns]\n",
       "reviews_per_month                        float64\n",
       "calculated_host_listings_count             int64\n",
       "availability_365                           int64\n",
       "number_of_reviews_ltm                      int64\n",
       "has_review                                  bool\n",
       "days_since_review                        float64\n",
       "dtype: object"
      ]
     },
     "execution_count": 44,
     "metadata": {},
     "output_type": "execute_result"
    }
   ],
   "source": [
    "filtered_listings.dtypes"
   ]
  },
  {
   "cell_type": "code",
   "execution_count": 45,
   "id": "78383119",
   "metadata": {},
   "outputs": [],
   "source": [
    "filtered_listings.to_csv(\"data/listings_clean.csv\")"
   ]
  }
 ],
 "metadata": {
  "kernelspec": {
   "display_name": ".venv",
   "language": "python",
   "name": "python3"
  },
  "language_info": {
   "codemirror_mode": {
    "name": "ipython",
    "version": 3
   },
   "file_extension": ".py",
   "mimetype": "text/x-python",
   "name": "python",
   "nbconvert_exporter": "python",
   "pygments_lexer": "ipython3",
   "version": "3.13.5"
  }
 },
 "nbformat": 4,
 "nbformat_minor": 5
}
